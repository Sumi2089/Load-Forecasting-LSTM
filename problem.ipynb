{
  "nbformat": 4,
  "nbformat_minor": 0,
  "metadata": {
    "colab": {
      "provenance": []
    },
    "kernelspec": {
      "name": "python3",
      "display_name": "Python 3"
    },
    "language_info": {
      "name": "python"
    }
  },
  "cells": [
    {
      "cell_type": "code",
      "execution_count": 17,
      "metadata": {
        "id": "k38WBYbRqhoz"
      },
      "outputs": [],
      "source": [
        "import tensorflow as tf\n",
        "from tensorflow import keras\n",
        "import pandas as pd\n",
        "import numpy as np\n",
        "df = pd.read_csv('https://raw.githubusercontent.com/Sumi2089/Datasheet/refs/heads/main/thesis5.csv')"
      ]
    },
    {
      "cell_type": "code",
      "source": [
        "X0 = []\n",
        "X1 = []\n",
        "X2 = []\n",
        "X3 = []\n",
        "X4 = []\n",
        "X5 = []\n",
        "X6 = []\n",
        "y = []\n",
        "\n",
        "for i in range(0, df.shape[0]-24):\n",
        "    X0.append(df.iloc[i:i+24, 0])\n",
        "    X1.append(df.iloc[i:i+24, 1])\n",
        "    X2.append(df.iloc[i:i+24, 2])\n",
        "    X3.append(df.iloc[i:i+24, 3])\n",
        "    X4.append(df.iloc[i:i+24, 4])\n",
        "    X5.append(df.iloc[i:i+24, 5])\n",
        "    X6.append(df.iloc[i:i+24, 6])\n",
        "    y.append(df.iloc[i+24, 4])\n",
        "\n",
        "X0, X1, X2, X3, X4, X5, X6, y = np.array(X0), np.array(X1), np.array(X2), np.array(X3), np.array(X4), np.array(X5), np.array(X6), np.array(y)\n",
        "y = np.reshape(y, (len(y),1))\n"
      ],
      "metadata": {
        "id": "ku7RkPOjrvXQ"
      },
      "execution_count": 18,
      "outputs": []
    },
    {
      "cell_type": "markdown",
      "source": [],
      "metadata": {
        "id": "Qj70RYZKsFhF"
      }
    },
    {
      "cell_type": "code",
      "source": [
        "#Normalize the data\n",
        "from sklearn.preprocessing import MinMaxScaler\n",
        "scaler = MinMaxScaler(feature_range=(0,1))\n",
        "X0 = scaler.fit_transform(X0)\n",
        "X1 = scaler.fit_transform(X1)\n",
        "X2 = scaler.fit_transform(X2)\n",
        "X3 = scaler.fit_transform(X3)\n",
        "X4 = scaler.fit_transform(X4)\n",
        "X5 = scaler.fit_transform(X5)\n",
        "X6 = scaler.fit_transform(X6)\n",
        "y = scaler.fit_transform(y)\n",
        "X = np.stack([X0, X1, X2, X3, X4, X5, X6], axis=2)"
      ],
      "metadata": {
        "id": "MjNbIzK4r-yS"
      },
      "execution_count": 19,
      "outputs": []
    },
    {
      "cell_type": "code",
      "source": [
        "# Train set and test set\n",
        "X_train, X_test = X[ :14616], X[14712:14736]\n",
        "y_train, y_test = y[ :14616], y[14712:14736]\n",
        "\n",
        "from tensorflow.keras.models import Sequential\n",
        "from tensorflow.keras.layers import Dense, LSTM, Dropout\n",
        "from tensorflow.keras import optimizers\n",
        "input_shape=([X_train.shape[1], X_train.shape[2]])\n",
        "\n",
        "def create_lstm_model(input_shape):\n",
        "    model = Sequential()\n",
        "    model.add(LSTM(100, return_sequences=True, input_shape=input_shape))\n",
        "    model.add(LSTM(100, return_sequences=False, activation='relu'))\n",
        "    model.add(Dropout(0.2))\n",
        "    model.add(Dense(1, activation='relu'))\n",
        "\n",
        "    model.compile(optimizer='adam', loss='mean_squared_error', metrics=['mae'])\n",
        "    return model"
      ],
      "metadata": {
        "id": "0gGRbh70sKEu"
      },
      "execution_count": 32,
      "outputs": []
    },
    {
      "cell_type": "code",
      "source": [
        "lstm_model = create_lstm_model([X_train.shape[1], X_train.shape[2]])"
      ],
      "metadata": {
        "id": "Yu86bLs9kpNE"
      },
      "execution_count": null,
      "outputs": []
    },
    {
      "cell_type": "code",
      "source": [
        "lstm_model.fit(X_train, y_train, validation_split=0.2, epochs=5, batch_size=16)"
      ],
      "metadata": {
        "colab": {
          "base_uri": "https://localhost:8080/"
        },
        "id": "aNVRUCHItDRi",
        "outputId": "2ad9673e-8ca9-4b23-d51b-dee5fd71cd70"
      },
      "execution_count": 76,
      "outputs": [
        {
          "output_type": "stream",
          "name": "stdout",
          "text": [
            "Epoch 1/5\n",
            "\u001b[1m731/731\u001b[0m \u001b[32m━━━━━━━━━━━━━━━━━━━━\u001b[0m\u001b[37m\u001b[0m \u001b[1m25s\u001b[0m 35ms/step - loss: 0.0013 - mae: 0.0257 - val_loss: 0.0013 - val_mae: 0.0237\n",
            "Epoch 2/5\n",
            "\u001b[1m731/731\u001b[0m \u001b[32m━━━━━━━━━━━━━━━━━━━━\u001b[0m\u001b[37m\u001b[0m \u001b[1m41s\u001b[0m 35ms/step - loss: 9.9681e-04 - mae: 0.0229 - val_loss: 0.0014 - val_mae: 0.0256\n",
            "Epoch 3/5\n",
            "\u001b[1m731/731\u001b[0m \u001b[32m━━━━━━━━━━━━━━━━━━━━\u001b[0m\u001b[37m\u001b[0m \u001b[1m29s\u001b[0m 40ms/step - loss: 9.1763e-04 - mae: 0.0220 - val_loss: 0.0014 - val_mae: 0.0264\n",
            "Epoch 4/5\n",
            "\u001b[1m731/731\u001b[0m \u001b[32m━━━━━━━━━━━━━━━━━━━━\u001b[0m\u001b[37m\u001b[0m \u001b[1m25s\u001b[0m 35ms/step - loss: 9.5460e-04 - mae: 0.0220 - val_loss: 8.3437e-04 - val_mae: 0.0203\n",
            "Epoch 5/5\n",
            "\u001b[1m731/731\u001b[0m \u001b[32m━━━━━━━━━━━━━━━━━━━━\u001b[0m\u001b[37m\u001b[0m \u001b[1m41s\u001b[0m 35ms/step - loss: 7.4152e-04 - mae: 0.0201 - val_loss: 8.0653e-04 - val_mae: 0.0192\n"
          ]
        },
        {
          "output_type": "execute_result",
          "data": {
            "text/plain": [
              "<keras.src.callbacks.history.History at 0x78bb87fa2200>"
            ]
          },
          "metadata": {},
          "execution_count": 76
        }
      ]
    },
    {
      "cell_type": "code",
      "source": [
        "lstm_predictions = lstm_model.predict(X_test)\n",
        "y_test_inverse = scaler.inverse_transform(y_test)\n",
        "lstm_predictions_inverse = scaler.inverse_transform(lstm_predictions)\n",
        "from sklearn.metrics import mean_squared_error\n",
        "lstm_error = mean_squared_error(y_test_inverse, lstm_predictions_inverse)\n",
        "print(f'LSTM MSE: {lstm_error}')"
      ],
      "metadata": {
        "colab": {
          "base_uri": "https://localhost:8080/"
        },
        "id": "v26gG2zLuQQS",
        "outputId": "8a4be0bf-d505-4f10-cefa-6bd555e642f4"
      },
      "execution_count": 79,
      "outputs": [
        {
          "output_type": "stream",
          "name": "stdout",
          "text": [
            "\u001b[1m1/1\u001b[0m \u001b[32m━━━━━━━━━━━━━━━━━━━━\u001b[0m\u001b[37m\u001b[0m \u001b[1m0s\u001b[0m 32ms/step\n",
            "LSTM MSE: 215.1879226441248\n"
          ]
        }
      ]
    }
  ]
}